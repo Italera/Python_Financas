{
 "cells": [
  {
   "cell_type": "markdown",
   "id": "fe1c90a7",
   "metadata": {},
   "source": [
    "### Exemplo Real: Carteira de Ativos\n",
    "\n",
    "- Temos a carteira no arquivo \"Carteira.xlsx\" e queremos comparar essa carteira com o índice IBOV para saber se ela ganhou do índice"
   ]
  },
  {
   "cell_type": "code",
   "execution_count": null,
   "id": "03343769",
   "metadata": {},
   "outputs": [],
   "source": []
  },
  {
   "cell_type": "markdown",
   "id": "55b00f60",
   "metadata": {},
   "source": [
    "#### Ajustando os dados"
   ]
  },
  {
   "cell_type": "code",
   "execution_count": null,
   "id": "fb7c4acc",
   "metadata": {},
   "outputs": [],
   "source": []
  },
  {
   "cell_type": "markdown",
   "id": "af3c06bf",
   "metadata": {},
   "source": [
    "#### Para compararmos oscilações, precisamos normalizar"
   ]
  },
  {
   "cell_type": "code",
   "execution_count": null,
   "id": "7b3b7a0e",
   "metadata": {},
   "outputs": [],
   "source": []
  },
  {
   "cell_type": "markdown",
   "id": "b7dce6aa",
   "metadata": {},
   "source": [
    "#### Puxando o IBOV para comparar"
   ]
  },
  {
   "cell_type": "code",
   "execution_count": null,
   "id": "c76b29d7",
   "metadata": {},
   "outputs": [],
   "source": []
  },
  {
   "cell_type": "markdown",
   "id": "3bfe748a",
   "metadata": {},
   "source": [
    "#### Vendo valores investidos"
   ]
  },
  {
   "cell_type": "code",
   "execution_count": null,
   "id": "724393ed",
   "metadata": {},
   "outputs": [],
   "source": []
  },
  {
   "cell_type": "markdown",
   "id": "0f01a954",
   "metadata": {},
   "source": [
    "#### Comparando carteira com o Índice"
   ]
  },
  {
   "cell_type": "code",
   "execution_count": null,
   "id": "f9145ac2",
   "metadata": {},
   "outputs": [],
   "source": []
  },
  {
   "cell_type": "markdown",
   "id": "f88f6222",
   "metadata": {},
   "source": [
    "#### Calculando retorno e correlação"
   ]
  },
  {
   "cell_type": "code",
   "execution_count": null,
   "id": "5005d61b",
   "metadata": {},
   "outputs": [],
   "source": []
  }
 ],
 "metadata": {
  "kernelspec": {
   "display_name": "Python 3 (ipykernel)",
   "language": "python",
   "name": "python3"
  },
  "language_info": {
   "codemirror_mode": {
    "name": "ipython",
    "version": 3
   },
   "file_extension": ".py",
   "mimetype": "text/x-python",
   "name": "python",
   "nbconvert_exporter": "python",
   "pygments_lexer": "ipython3",
   "version": "3.10.9"
  }
 },
 "nbformat": 4,
 "nbformat_minor": 5
}
